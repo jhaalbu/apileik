{
  "nbformat": 4,
  "nbformat_minor": 0,
  "metadata": {
    "kernelspec": {
      "display_name": "Python 3",
      "language": "python",
      "name": "python3"
    },
    "language_info": {
      "codemirror_mode": {
        "name": "ipython",
        "version": 3
      },
      "file_extension": ".py",
      "mimetype": "text/x-python",
      "name": "python",
      "nbconvert_exporter": "python",
      "pygments_lexer": "ipython3",
      "version": "3.7.3"
    },
    "colab": {
      "name": "Untitled.ipynb",
      "version": "0.3.2",
      "provenance": [],
      "include_colab_link": true
    }
  },
  "cells": [
    {
      "cell_type": "markdown",
      "metadata": {
        "id": "view-in-github",
        "colab_type": "text"
      },
      "source": [
        "<a href=\"https://colab.research.google.com/github/jhaalbu/apileik/blob/master/Untitled.ipynb\" target=\"_parent\"><img src=\"https://colab.research.google.com/assets/colab-badge.svg\" alt=\"Open In Colab\"/></a>"
      ]
    },
    {
      "cell_type": "code",
      "metadata": {
        "id": "ma0z2r2ZnSpV",
        "colab_type": "code",
        "colab": {}
      },
      "source": [
        "import pandas as pd\n",
        "import math\n",
        "import numpy as np\n",
        "from matplotlib import pyplot as plt\n",
        "%matplotlib inline"
      ],
      "execution_count": 0,
      "outputs": []
    },
    {
      "cell_type": "markdown",
      "metadata": {
        "id": "2QIunO2EnSpY",
        "colab_type": "text"
      },
      "source": [
        "Parameterinnput"
      ]
    },
    {
      "cell_type": "code",
      "metadata": {
        "id": "XfTCpBuxnSpZ",
        "colab_type": "code",
        "colab": {
          "base_uri": "https://localhost:8080/",
          "height": 34
        },
        "outputId": "a5a64d3b-9ef1-46d6-e0ae-4ea9c0f98898"
      },
      "source": [
        "phi = 40 #friksjonfinkel\n",
        "tanphi = math.tan(math.radians(phi)) #friksjonsvinkel\n",
        "attraksjon = 0 #attraksjon\n",
        "a = attraksjon\n",
        "gamma_m = 1.4 #materialfaktor\n",
        "ro = phi / gamma_m\n",
        "tanro = tanphi / gamma_m\n",
        "u = 0 #grunnvassnivå frå bakkenivå\n",
        "ka = 0.3 #jordrykkskoeffisient\n",
        "r = 0.3 #ruhet bak vegg\n",
        "gamma = 18 #tyngdetetthet\n",
        "gamma_mur = 22 #tyngdetetthet mur\n",
        "z = 7 #høgde skråning\n",
        "bmur = 0.5 #tjuke mur\n",
        "a_mur = 5 #helling mur\n",
        "delta = 90 - math.degrees(math.atan(a_mur/1))#18.4 helling vegg fra vertikalplan 0 - 40\n",
        "q = 0 #last\n",
        "gammaq = 1.15 #lastfaktor\n",
        "qd = q * gammaq #dimmensjonerande terrenglast\n",
        "F = 0 #forankringslast normalt på mur\n",
        "b_terreng = 10\n",
        "beta = math.atan(1/b_terreng) #helling på terreng i radianer\n",
        "\n",
        "print(beta)"
      ],
      "execution_count": 4,
      "outputs": [
        {
          "output_type": "stream",
          "text": [
            "0.09966865249116204\n"
          ],
          "name": "stdout"
        }
      ]
    },
    {
      "cell_type": "code",
      "metadata": {
        "scrolled": true,
        "id": "Rggu_88GnSpc",
        "colab_type": "code",
        "colab": {
          "base_uri": "https://localhost:8080/",
          "height": 119
        },
        "outputId": "438e29c7-8817-4f11-f25c-b81cae58ae91"
      },
      "source": [
        "\n",
        "pvlist = []\n",
        "palist = []\n",
        "zlist = []\n",
        "ulist = []\n",
        "\n",
        "\n",
        "\n",
        "#Setter djupneskala\n",
        "for i in range(z+1):\n",
        "    zlist.append(i)\n",
        "\n",
        "def sFaktor(beta, ro):\n",
        "    return ((math.tan(math.radians(beta)))/(ro))\n",
        "\n",
        "def tFaktor(r, s):\n",
        "    return ((1 + r) * (1 - s))\n",
        "\n",
        "def kA(tanro, beta, r):\n",
        "    s = sFaktor(beta, tanro)\n",
        "    t = tFaktor(r, s)\n",
        "    k = 1/(((math.sqrt(1 + (math.tan(tanro)) ** 2)) + math.atan(tanro) * math.sqrt(t)) ** 2)\n",
        "    return k\n",
        "\n",
        "def kAkorr(delta, ro):\n",
        "    kkorr = (math.cos(math.radians(delta) + math.radians(ro)) ** 2) / ((math.cos(math.radians(delta)) ** 3) * (math.cos(math.radians(ro)) ** 2))\n",
        "    return kkorr\n",
        "\n",
        "\n",
        "print(kA(tanro, beta, r))\n",
        "\n",
        "def poretrykk(u, z):\n",
        "    if z > u:\n",
        "        return ((z*10)-(u*10))\n",
        "    else:\n",
        "        return 0\n",
        "\n",
        "    \n",
        "for i in range(z+1):\n",
        "    ulist.append(poretrykk(u, i))\n",
        "\n",
        "        \n",
        "#Rekner ut vertikal absoluttspenning\n",
        "for i in range(z+1):\n",
        "    pvlist.append(q + (gamma * (i)))\n",
        "\n",
        "#Rekner ut horisontal absoluttspenning\n",
        "for i in range(z+1):\n",
        "    palist.append(ka * (pvlist[i] + a) - a)        \n",
        "        \n",
        "#print(ulist)\n",
        "df = {'Djupne': zlist, 'Pv': pvlist, 'Pa': palist, 'U': ulist}\n",
        "jordtrykk = pd.DataFrame(df)\n",
        "\n",
        "print(tanro)\n",
        "s = sFaktor(beta, tanro)\n",
        "print(sFaktor(beta, tanro))\n",
        "print(tFaktor(r, s))\n",
        "a = math.atan(tanro)\n",
        "print('a=' + str(a))\n",
        "print(kAkorr(delta, ro))\n",
        "    \n"
      ],
      "execution_count": 5,
      "outputs": [
        {
          "output_type": "stream",
          "text": [
            "0.29996927078779506\n",
            "0.5993568794123428\n",
            "0.002902357445765558\n",
            "1.2962269353205047\n",
            "a=0.5399464833118645\n",
            "0.809758882158417\n"
          ],
          "name": "stdout"
        }
      ]
    },
    {
      "cell_type": "code",
      "metadata": {
        "id": "otzEaHO3nSpe",
        "colab_type": "code",
        "colab": {
          "base_uri": "https://localhost:8080/",
          "height": 170
        },
        "outputId": "2486c483-e71a-47ad-8b92-bcf3dc72bc5d"
      },
      "source": [
        "klist = []\n",
        "\n",
        "for x in range(1,10):\n",
        "    ro = x / 10\n",
        "    print(kA(ro, beta, r))\n"
      ],
      "execution_count": 6,
      "outputs": [
        {
          "output_type": "stream",
          "text": [
            "0.8005241302977544\n",
            "0.6457487843982282\n",
            "0.5265497410349249\n",
            "0.4336215819130388\n",
            "0.3597640387766968\n",
            "0.2996173038874099\n",
            "0.24926954513445224\n",
            "0.20589772966236083\n",
            "0.1674908381747882\n"
          ],
          "name": "stdout"
        }
      ]
    },
    {
      "cell_type": "code",
      "metadata": {
        "id": "lWWlRFZjnSph",
        "colab_type": "code",
        "colab": {
          "base_uri": "https://localhost:8080/",
          "height": 170
        },
        "outputId": "8a3ffd7b-be16-440a-895b-82d23c12b89d"
      },
      "source": [
        "#Lager dict for å lage Pandas dataframe\n",
        "tdict = {'Djupne': zlist, 'Poretrykk': ulist}\n",
        "#Lager pandas DataFrame\n",
        "trykk = pd.DataFrame(tdict)\n",
        "\n",
        "trykk['Pv_eff'] = (trykk['Djupne']*gamma) - trykk['Poretrykk']\n",
        "trykk['Pa_eff'] = (kA(tanro, beta, r) * (trykk['Pv_eff'] +a) - a)\n",
        "\n",
        "print(trykk)\n"
      ],
      "execution_count": 7,
      "outputs": [
        {
          "output_type": "stream",
          "text": [
            "   Djupne  Poretrykk  Pv_eff     Pa_eff\n",
            "0       0          0       0  -0.377979\n",
            "1       1         10       8   2.021775\n",
            "2       2         20      16   4.421529\n",
            "3       3         30      24   6.821283\n",
            "4       4         40      32   9.221038\n",
            "5       5         50      40  11.620792\n",
            "6       6         60      48  14.020546\n",
            "7       7         70      56  16.420300\n"
          ],
          "name": "stdout"
        }
      ]
    },
    {
      "cell_type": "code",
      "metadata": {
        "id": "AI5cf59vnSpj",
        "colab_type": "code",
        "colab": {
          "base_uri": "https://localhost:8080/",
          "height": 301
        },
        "outputId": "bf0193a8-94d6-404f-fcd1-e79dec30022e"
      },
      "source": [
        "ax = plt.gca()\n",
        "ax.invert_yaxis()\n",
        "trykk.plot(kind='line', x='Poretrykk', y='Djupne', label='U', ax=ax)\n",
        "trykk.plot(kind='line', x='Pv_eff', y='Djupne', label='Pv', ax=ax)\n",
        "trykk.plot(kind='line', x='Pa_eff', y='Djupne', label='Pa', ax=ax)\n",
        "\n"
      ],
      "execution_count": 8,
      "outputs": [
        {
          "output_type": "execute_result",
          "data": {
            "text/plain": [
              "<matplotlib.axes._subplots.AxesSubplot at 0x7f10658c7fd0>"
            ]
          },
          "metadata": {
            "tags": []
          },
          "execution_count": 8
        },
        {
          "output_type": "display_data",
          "data": {
            "image/png": "[encoded data removed]",
            "text/plain": [
              "<Figure size 432x288 with 1 Axes>"
            ]
          },
          "metadata": {
            "tags": []
          }
        }
      ]
    },
    {
      "cell_type": "markdown",
      "metadata": {
        "id": "8QUarNivnSpm",
        "colab_type": "text"
      },
      "source": [
        "Parameterjakt"
      ]
    },
    {
      "cell_type": "code",
      "metadata": {
        "id": "SE4CIoGLnSpm",
        "colab_type": "code",
        "colab": {},
        "outputId": "edd881fd-0141-42a3-b356-0b7b6a34960e"
      },
      "source": [
        "p_mur = z * bmur * gamma_mur #vekt av mur\n",
        "    \n",
        "PN = p_mur * math.sin(math.radians(delta))\n",
        "PN_F_cos = (PN + F) * (math.cos(math.radians(delta)))    #(PN + F) * cos beta\n",
        "PN_F_sin = (PN + F) * (math.sin(math.radians(delta)))   \n",
        "print(p_mur)\n",
        "print(PN)\n",
        "print(PN_F_cos)\n",
        "print(PN_F_sin)"
      ],
      "execution_count": 0,
      "outputs": [
        {
          "output_type": "stream",
          "text": [
            "198\n",
            "62.61309767133391\n",
            "59.4\n",
            "19.8\n"
          ],
          "name": "stdout"
        }
      ]
    },
    {
      "cell_type": "code",
      "metadata": {
        "id": "ftmhPVMwnSpp",
        "colab_type": "code",
        "colab": {},
        "outputId": "3c45fbbb-8add-4250-e3a3-cdfae2093bb7"
      },
      "source": [
        "vinkelliste = []\n",
        "for i in range(30,71):\n",
        "    vinkelliste.append(i)\n",
        "alpha = 30\n",
        "    \n",
        "x2 = z / np.tan((np.radians(alpha) - (1/b_terreng)))     \n",
        "x1 = z / (a_mur - (1 / b_terreng))    \n",
        "A = (z / 2) * (x2 - x1)\n",
        "W = gamma * A\n",
        "L = x2 / (np.cos(np.radians(alpha)))\n",
        "Wq = W + q + PN_F_sin\n",
        "alpha_delta = math.degrees(math.atan(PN_F_cos/(PN_F_sin+W+q)))\n",
        "delta1 = alpha - alpha_delta\n",
        "x_1 = math.sqrt((Wq ** 2)+(PN_F_cos ** 2))\n",
        "N = x_1 * math.sin(math.radians(delta1))\n",
        "tan_ro = (N * (math.tan(math.radians(delta1)))) / (N + (attraksjon * L))\n",
        "sf = tanphi / tan_ro\n",
        "\n",
        "\n",
        "print(Wq)\n",
        "print(sf)"
      ],
      "execution_count": 0,
      "outputs": [
        {
          "output_type": "stream",
          "text": [
            "1385.2015640886616\n",
            "1.6088395357485343\n"
          ],
          "name": "stdout"
        }
      ]
    },
    {
      "cell_type": "code",
      "metadata": {
        "id": "-wUwtN-TnSpr",
        "colab_type": "code",
        "colab": {},
        "outputId": "d392aa0d-d7f2-4e57-a5e0-3b349ec1dbd7"
      },
      "source": [
        "verdier = {'0'}\n",
        "att = []\n",
        "philist = []\n",
        "\n",
        "for tanphi in range(30, 45):\n",
        "    for attraksjon in range(0,10):\n",
        "        for alpha in range(30,71):\n",
        "\n",
        "            liste = []\n",
        "            #print('attraksjon=' + str(attraksjon))\n",
        "            x2 = z / np.tan((np.radians(alpha) - (1/b_terreng)))     \n",
        "            x1 = z / (a_mur - (1 / b_terreng))    \n",
        "            A = (z / 2) * (x2 - x1)\n",
        "            W = gamma * A\n",
        "            L = x2 / (np.cos(np.radians(alpha)))\n",
        "            Wq = W + q + PN_F_sin\n",
        "            alpha_delta = math.degrees(math.atan(PN_F_cos/(PN_F_sin+W+q)))\n",
        "            delta1 = alpha - alpha_delta\n",
        "            x_1 = math.sqrt((Wq ** 2)+(PN_F_cos ** 2))\n",
        "            N = x_1 * math.sin(math.radians(delta1))\n",
        "            tan_ro = (N * (math.tan(math.radians(delta1)))) / (N + (attraksjon * L))\n",
        "            sf = math.radians(tanphi) / tan_ro\n",
        "            #print('sf=' + str(sf))\n",
        "            if sf <= 1.01 and sf >= 0.99:\n",
        "                \n",
        "                \n",
        "                liste.append(tanphi)\n",
        "                liste.append(attraksjon)\n",
        "                liste.append(sf)\n",
        "                philist.append(liste)\n",
        "\n",
        "print(philist)\n",
        "\n",
        "#    print('alpha=' + str(alpha))\n",
        " #       print('tanphi=' + str(tanphi))\n"
      ],
      "execution_count": 0,
      "outputs": [
        {
          "output_type": "stream",
          "text": [
            "[[30, 0, 0.9900289005242099], [30, 1, 0.998408783058433], [30, 2, 1.005188012193079], [30, 6, 0.9920639257173527], [30, 7, 0.9956280355454176], [30, 8, 0.9990479605095408], [30, 9, 1.0024693654838468], [31, 1, 0.998072050836783], [31, 2, 1.005360488217376], [31, 5, 0.9912224833149929], [31, 6, 0.9959077818789159], [31, 7, 1.0003516912773849], [31, 8, 1.0047113290736736], [31, 9, 1.0091331557327006], [32, 1, 0.9975168363331685], [32, 2, 1.0053278683564295], [32, 5, 0.99406444080265], [32, 6, 0.999591043470015], [32, 7, 1.004942087377933], [32, 9, 0.9913673293749081], [33, 1, 0.9967669396054833], [33, 2, 1.0051169619383145], [33, 4, 0.9900980123166195], [33, 5, 0.9967660170874322], [33, 6, 1.003161640396624], [33, 7, 1.0094528316115885], [33, 8, 0.9913025047693952], [33, 9, 0.9987686837656363], [34, 1, 0.9958454627229539], [34, 2, 1.0047539802332826], [34, 4, 0.9918766121296357], [34, 5, 0.9993699881297473], [34, 6, 1.0066678655052554], [34, 8, 0.997629256272728], [34, 9, 1.0062737252384464], [35, 1, 0.9947751224120956], [35, 2, 1.0042648943150398], [35, 4, 0.9935671305773025], [35, 5, 1.0019196967017376], [35, 7, 0.9946424672984799], [35, 8, 1.004065193526281], [35, 9, 0.9935283803571215], [35, 9, 1.0032428802304953], [36, 1, 0.9935785435469885], [36, 2, 1.0036757757757013], [36, 4, 0.9952083252010356], [36, 5, 1.0044596458491715], [36, 7, 1.000039243657054], [36, 8, 0.9900604833100946], [36, 9, 1.0023820034796809], [36, 9, 0.9938118429890131], [37, 0, 1.009830087047674], [37, 1, 0.9922785413554953], [37, 2, 1.0030131294464137], [37, 4, 0.9968401819085103], [37, 5, 1.0070361127723166], [37, 6, 0.9941958756307642], [37, 7, 1.0056141106898475], [37, 8, 0.9978183074617392], [37, 8, 1.0088350288507144], [37, 9, 0.9945669232049364], [37, 9, 0.9905330904530855], [38, 0, 1.0072099606444562], [38, 1, 0.9908983994753705], [38, 2, 1.002304226632351], [38, 4, 0.998504455353582], [38, 5, 1.009697799633153], [38, 6, 0.9987532709384402], [38, 7, 0.9915028470892546], [38, 8, 1.0059758936875314], [38, 8, 0.9996602251970038], [38, 9, 1.0054319434796752], [38, 9, 0.9909633485909201], [38, 9, 0.9925056964211972], [39, 0, 1.0045150147761965], [39, 2, 1.0015774471109211], [39, 4, 1.000245245474216], [39, 5, 0.9901008733186232], [39, 6, 1.003547608819079], [39, 7, 0.9985624144943551], [39, 7, 1.0088340946639731], [39, 8, 0.9983164378464588], [39, 8, 0.9965963060403994], [39, 9, 1.0038105900311949], [39, 9, 0.9922471396277514], [39, 9, 0.9990518781740985], [40, 0, 1.0017633753119113], [40, 2, 1.0008626382366494], [40, 4, 1.002109625750767], [40, 5, 0.9938857963442571], [40, 6, 1.008651920371515], [40, 7, 1.006097809230097], [40, 7, 1.0003124614211045], [40, 8, 1.0087205005000528], [40, 8, 0.9950997359289625], [40, 8, 0.9987504814702771], [40, 9, 1.0076095456466345], [40, 9, 0.9994031316847369], [40, 9, 0.9931906240425739], [40, 9, 0.9919779957233802], [40, 9, 0.9989579564111939], [40, 9, 1.0096576959308652], [41, 0, 0.9989740909739923], [41, 2, 1.0001914999399808], [41, 4, 1.0041483407761567], [41, 5, 0.9979570491126734], [41, 6, 0.9958315458615121], [41, 6, 1.0032400776702723], [41, 7, 0.9986797288612209], [41, 7, 0.997789868948086], [41, 8, 1.0076744312587331], [41, 8, 0.99709539499124], [41, 8, 0.9919914070553417], [41, 8, 1.0054505460433056], [42, 0, 0.9961673528376993], [42, 2, 0.9995980052175009], [42, 3, 0.9910170484853162], [42, 4, 1.006416593594701], [42, 5, 1.0023885377048727], [42, 6, 1.0027962601683058], [42, 6, 0.9957685516613153], [42, 7, 1.0086826561864577], [42, 7, 0.9959298701467302], [42, 7, 1.0003960308325746], [42, 8, 1.0054221872652598], [42, 8, 1.0005296118163145], [42, 8, 0.9979401730944962], [42, 8, 0.9978849733226347], [42, 8, 1.000652308627697], [42, 8, 1.0066022747720034], [43, 0, 0.9933647310718792], [43, 1, 1.008528683542176], [43, 2, 0.9991188669283965], [43, 3, 0.9923305558143113], [43, 4, 1.0089749471540337], [43, 5, 1.0072622439578907], [43, 5, 0.9920529778696111], [43, 6, 0.9956656036867311], [43, 6, 0.9941137791761456], [43, 7, 1.0082881279236888], [43, 7, 0.998718661104407], [43, 7, 0.991041700697384], [43, 7, 0.9953804404538171], [43, 7, 1.0074750908119523], [44, 0, 0.9905894341087509], [44, 1, 1.0065559576383831], [44, 2, 0.9987940634034161], [44, 3, 0.9939006650088344], [44, 4, 0.9926766258820694], [44, 5, 0.9960764649896676], [44, 6, 1.0053034974002693], [44, 6, 0.9934197834516404], [44, 6, 0.9974423445080894], [44, 7, 1.0083103945753054], [44, 7, 1.0047846789143067], [44, 7, 1.0037325350622768], [44, 7, 1.0054290418289802]]\n"
          ],
          "name": "stdout"
        }
      ]
    },
    {
      "cell_type": "code",
      "metadata": {
        "id": "jUHVWPtDnSpu",
        "colab_type": "code",
        "colab": {},
        "outputId": "c95b88fe-149a-4df9-f619-29905416c91a"
      },
      "source": [
        "vdict = {'Alpha': vinkelliste}\n",
        "stab_df = pd.DataFrame(vdict)\n",
        "stab_df['x2'] = z / np.tan((np.radians(stab_df['Alpha']) - (1/b_terreng)))\n",
        "stab_df['x1'] = z / (a_mur - (1 / b_terreng))\n",
        "stab_df['A'] = (z / 2) * (stab_df['x2'] - stab_df['x1'])\n",
        "stab_df['W'] = gamma * stab_df['A']\n",
        "stab_df['q'] = q\n",
        "stab_df['L'] = stab_df['x2'] / (np.cos(np.radians(stab_df['Alpha'])))\n",
        "Wq = W + q + PN_F_sin\n",
        "alpha_delta = math.degrees(math.atan(PN_F_cos/(PN_F_sin+W+q)))\n",
        "delta1 = alpha - alpha_delta\n",
        "x_1 = math.sqrt((Wq ** 2)+(PN_F_cos ** 2))\n",
        "N = x_1 * math.sin(math.radians(delta1))\n",
        "tan_ro = (N * (math.tan(math.radians(delta1)))) / (N + (attraksjon * L))\n",
        "sf = math.radians(tanphi) / tan_ro\n",
        "\n",
        "stab_df.head()"
      ],
      "execution_count": 0,
      "outputs": [
        {
          "output_type": "execute_result",
          "data": {
            "text/html": [
              "<div>\n",
              "<style scoped>\n",
              "    .dataframe tbody tr th:only-of-type {\n",
              "        vertical-align: middle;\n",
              "    }\n",
              "\n",
              "    .dataframe tbody tr th {\n",
              "        vertical-align: top;\n",
              "    }\n",
              "\n",
              "    .dataframe thead th {\n",
              "        text-align: right;\n",
              "    }\n",
              "</style>\n",
              "<table border=\"1\" class=\"dataframe\">\n",
              "  <thead>\n",
              "    <tr style=\"text-align: right;\">\n",
              "      <th></th>\n",
              "      <th>Alpha</th>\n",
              "      <th>x2</th>\n",
              "      <th>x1</th>\n",
              "      <th>A</th>\n",
              "      <th>W</th>\n",
              "      <th>q</th>\n",
              "      <th>L</th>\n",
              "    </tr>\n",
              "  </thead>\n",
              "  <tbody>\n",
              "    <tr>\n",
              "      <th>0</th>\n",
              "      <td>30</td>\n",
              "      <td>19.960258</td>\n",
              "      <td>3.103448</td>\n",
              "      <td>75.855642</td>\n",
              "      <td>23.048120</td>\n",
              "      <td>0</td>\n",
              "      <td>23.048120</td>\n",
              "    </tr>\n",
              "    <tr>\n",
              "      <th>1</th>\n",
              "      <td>31</td>\n",
              "      <td>19.065114</td>\n",
              "      <td>3.103448</td>\n",
              "      <td>71.827497</td>\n",
              "      <td>22.241999</td>\n",
              "      <td>0</td>\n",
              "      <td>22.241999</td>\n",
              "    </tr>\n",
              "    <tr>\n",
              "      <th>2</th>\n",
              "      <td>32</td>\n",
              "      <td>18.233808</td>\n",
              "      <td>3.103448</td>\n",
              "      <td>68.086618</td>\n",
              "      <td>21.500912</td>\n",
              "      <td>0</td>\n",
              "      <td>21.500912</td>\n",
              "    </tr>\n",
              "    <tr>\n",
              "      <th>3</th>\n",
              "      <td>33</td>\n",
              "      <td>17.459289</td>\n",
              "      <td>3.103448</td>\n",
              "      <td>64.601284</td>\n",
              "      <td>20.817815</td>\n",
              "      <td>0</td>\n",
              "      <td>20.817815</td>\n",
              "    </tr>\n",
              "    <tr>\n",
              "      <th>4</th>\n",
              "      <td>34</td>\n",
              "      <td>16.735505</td>\n",
              "      <td>3.103448</td>\n",
              "      <td>61.344256</td>\n",
              "      <td>20.186667</td>\n",
              "      <td>0</td>\n",
              "      <td>20.186667</td>\n",
              "    </tr>\n",
              "  </tbody>\n",
              "</table>\n",
              "</div>"
            ],
            "text/plain": [
              "   Alpha         x2        x1          A          W  q          L\n",
              "0     30  19.960258  3.103448  75.855642  23.048120  0  23.048120\n",
              "1     31  19.065114  3.103448  71.827497  22.241999  0  22.241999\n",
              "2     32  18.233808  3.103448  68.086618  21.500912  0  21.500912\n",
              "3     33  17.459289  3.103448  64.601284  20.817815  0  20.817815\n",
              "4     34  16.735505  3.103448  61.344256  20.186667  0  20.186667"
            ]
          },
          "metadata": {
            "tags": []
          },
          "execution_count": 42
        }
      ]
    }
  ]
}